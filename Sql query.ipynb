{
 "cells": [
  {
   "cell_type": "code",
   "execution_count": 1,
   "metadata": {},
   "outputs": [
    {
     "name": "stdout",
     "output_type": "stream",
     "text": [
      "Database connection established.\n"
     ]
    }
   ],
   "source": [
    "import pandas as pd\n",
    "import mysql.connector\n",
    "from tabulate import tabulate\n",
    "from datetime import datetime\n",
    "\n",
    "# Connect to MySQL server\n",
    "mydb = mysql.connector.connect(\n",
    "    host=\"localhost\",\n",
    "    user=\"root\",\n",
    "    password=\"nithya\",\n",
    "    database=\"DataSpark\"  \n",
    ")\n",
    "print(\"Database connection established.\")\n",
    "mycursor = mydb.cursor(buffered=True)"
   ]
  },
  {
   "cell_type": "markdown",
   "metadata": {},
   "source": [
    "1. Total Revenue by store country"
   ]
  },
  {
   "cell_type": "code",
   "execution_count": 9,
   "metadata": {},
   "outputs": [
    {
     "name": "stdout",
     "output_type": "stream",
     "text": [
      "+-----------------+-----------------+\n",
      "| Store Country   |   Total_Revenue |\n",
      "+=================+=================+\n",
      "| Canada          |     3.61156e+06 |\n",
      "+-----------------+-----------------+\n",
      "| Online          |     1.14043e+07 |\n",
      "+-----------------+-----------------+\n",
      "| United Kingdom  |     5.74977e+06 |\n",
      "+-----------------+-----------------+\n",
      "| Netherlands     |     1.59134e+06 |\n",
      "+-----------------+-----------------+\n",
      "| United States   |     2.37644e+07 |\n",
      "+-----------------+-----------------+\n",
      "| Italy           |     2.05909e+06 |\n",
      "+-----------------+-----------------+\n",
      "| France          |     1.22955e+06 |\n",
      "+-----------------+-----------------+\n",
      "| Germany         |     4.24628e+06 |\n",
      "+-----------------+-----------------+\n",
      "| Australia       |     2.09914e+06 |\n",
      "+-----------------+-----------------+\n"
     ]
    }
   ],
   "source": [
    "\n",
    "query = '''\n",
    "SELECT \n",
    "    `Store Country`, \n",
    "    SUM(Quantity * `Unit Price USD`) AS Total_Revenue \n",
    "FROM \n",
    "    `global electronics`\n",
    "GROUP BY \n",
    "    `Store Country`;\n",
    "'''\n",
    "\n",
    "mycursor.execute(query)\n",
    "\n",
    "\n",
    "result = mycursor.fetchall()\n",
    "headers = [i[0] for i in mycursor.description]\n",
    "\n",
    "\n",
    "print(tabulate(result, headers, tablefmt=\"grid\"))\n",
    "\n",
    "\n"
   ]
  },
  {
   "cell_type": "markdown",
   "metadata": {},
   "source": [
    "2.Total quantity sold by category"
   ]
  },
  {
   "cell_type": "code",
   "execution_count": 4,
   "metadata": {},
   "outputs": [
    {
     "name": "stdout",
     "output_type": "stream",
     "text": [
      "+-------------------------------+-----------------------+\n",
      "| Category                      |   Total_Quantity_Sold |\n",
      "+===============================+=======================+\n",
      "| Cameras and camcorders        |                 17609 |\n",
      "+-------------------------------+-----------------------+\n",
      "| Home Appliances               |                 18401 |\n",
      "+-------------------------------+-----------------------+\n",
      "| Computers                     |                 44151 |\n",
      "+-------------------------------+-----------------------+\n",
      "| TV and Video                  |                 11236 |\n",
      "+-------------------------------+-----------------------+\n",
      "| Cell phones                   |                 31477 |\n",
      "+-------------------------------+-----------------------+\n",
      "| Music, Movies and Audio Books |                 28802 |\n",
      "+-------------------------------+-----------------------+\n",
      "| Games and Toys                |                 22591 |\n",
      "+-------------------------------+-----------------------+\n",
      "| Audio                         |                 23490 |\n",
      "+-------------------------------+-----------------------+\n"
     ]
    }
   ],
   "source": [
    "mydb.commit()\n",
    "\n",
    "query2 = '''\n",
    "    SELECT \n",
    "    Category, \n",
    "    SUM(Quantity) AS Total_Quantity_Sold \n",
    "FROM \n",
    "    `global electronics`\n",
    "GROUP BY \n",
    "    CategoryKey, \n",
    "    Category'''\n",
    "    \n",
    "mycursor.execute(query2)\n",
    "\n",
    "result = mycursor.fetchall()\n",
    "headers = [i[0] for i in mycursor.description]\n",
    "\n",
    "\n",
    "print(tabulate(result, headers, tablefmt=\"grid\"))\n",
    "\n",
    "\n"
   ]
  },
  {
   "cell_type": "markdown",
   "metadata": {},
   "source": [
    "3.List the top 5 most sold products by quantity"
   ]
  },
  {
   "cell_type": "code",
   "execution_count": 5,
   "metadata": {},
   "outputs": [
    {
     "name": "stdout",
     "output_type": "stream",
     "text": [
      "+--------------------------------------------+-----------------------+\n",
      "| Product Name                               |   Total_Quantity_Sold |\n",
      "+============================================+=======================+\n",
      "| WWI Desktop PC2.33 X2330 Black             |                   550 |\n",
      "+--------------------------------------------+-----------------------+\n",
      "| WWI Desktop PC1.80 E1800 White             |                   538 |\n",
      "+--------------------------------------------+-----------------------+\n",
      "| Adventure Works Desktop PC1.60 ED160 Black |                   521 |\n",
      "+--------------------------------------------+-----------------------+\n",
      "| Adventure Works Desktop PC2.30 MD230 White |                   521 |\n",
      "+--------------------------------------------+-----------------------+\n",
      "| Adventure Works Desktop PC1.80 ED180 Black |                   520 |\n",
      "+--------------------------------------------+-----------------------+\n"
     ]
    }
   ],
   "source": [
    "mydb.commit()\n",
    "\n",
    "query3 = '''\n",
    "SELECT \n",
    "    `Product Name`, \n",
    "    SUM(Quantity) AS Total_Quantity_Sold \n",
    "FROM \n",
    "    `global electronics`\n",
    "GROUP BY \n",
    "    ProductKey, \n",
    "    `Product Name`\n",
    "ORDER BY \n",
    "    Total_Quantity_Sold DESC \n",
    "LIMIT 5'''\n",
    "    \n",
    "mycursor.execute(query3)\n",
    "\n",
    "\n",
    "result = mycursor.fetchall()\n",
    "headers = [i[0] for i in mycursor.description]\n",
    "\n",
    "print(tabulate(result, headers, tablefmt=\"grid\"))"
   ]
  },
  {
   "cell_type": "markdown",
   "metadata": {},
   "source": [
    "4.Calculate the total number of orders made by male customers."
   ]
  },
  {
   "cell_type": "code",
   "execution_count": 8,
   "metadata": {},
   "outputs": [
    {
     "name": "stdout",
     "output_type": "stream",
     "text": [
      "+----------------+\n",
      "|   Total_Orders |\n",
      "+================+\n",
      "|          31804 |\n",
      "+----------------+\n"
     ]
    }
   ],
   "source": [
    "mydb.commit()\n",
    "\n",
    "query4 = '''\n",
    "SELECT \n",
    "    COUNT(`Order Number`) AS Total_Orders \n",
    "FROM \n",
    "    `global electronics`\n",
    "WHERE \n",
    "    `Customer Gender` = 'Male' '''\n",
    "    \n",
    "mycursor.execute(query4)\n",
    "\n",
    "\n",
    "result = mycursor.fetchall()\n",
    "headers = [i[0] for i in mycursor.description]\n",
    "\n",
    "print(tabulate(result, headers, tablefmt=\"grid\"))\n",
    "    "
   ]
  },
  {
   "cell_type": "markdown",
   "metadata": {},
   "source": [
    "5.Calculate the total number of orders made by Female customers."
   ]
  },
  {
   "cell_type": "code",
   "execution_count": 9,
   "metadata": {},
   "outputs": [
    {
     "name": "stdout",
     "output_type": "stream",
     "text": [
      "+----------------+\n",
      "|   Total_Orders |\n",
      "+================+\n",
      "|          31080 |\n",
      "+----------------+\n"
     ]
    }
   ],
   "source": [
    "mydb.commit()\n",
    "\n",
    "query5 = '''\n",
    "SELECT \n",
    "    COUNT(`Order Number`) AS Total_Orders \n",
    "FROM \n",
    "    `global electronics`\n",
    "WHERE \n",
    "    `Customer Gender` = 'Female' '''\n",
    "    \n",
    "mycursor.execute(query5)\n",
    "\n",
    "\n",
    "result = mycursor.fetchall()\n",
    "headers = [i[0] for i in mycursor.description]\n",
    "\n",
    "\n",
    "print(tabulate(result, headers, tablefmt=\"grid\"))\n",
    "    "
   ]
  },
  {
   "cell_type": "markdown",
   "metadata": {},
   "source": [
    "6.customers who have made more than ten purchase"
   ]
  },
  {
   "cell_type": "code",
   "execution_count": 12,
   "metadata": {},
   "outputs": [
    {
     "name": "stdout",
     "output_type": "stream",
     "text": [
      "+---------------+---------------------+\n",
      "|   CustomerKey |   NumberOfPurchases |\n",
      "+===============+=====================+\n",
      "|        758280 |                  16 |\n",
      "+---------------+---------------------+\n",
      "|       1301565 |                  11 |\n",
      "+---------------+---------------------+\n",
      "|        942807 |                  12 |\n",
      "+---------------+---------------------+\n",
      "|       1736623 |                  18 |\n",
      "+---------------+---------------------+\n",
      "|       1843882 |                  16 |\n",
      "+---------------+---------------------+\n",
      "|        571622 |                  16 |\n",
      "+---------------+---------------------+\n",
      "|       1664824 |                  19 |\n",
      "+---------------+---------------------+\n",
      "|       1884908 |                  13 |\n",
      "+---------------+---------------------+\n",
      "|       2092033 |                  11 |\n",
      "+---------------+---------------------+\n",
      "|       1522590 |                  11 |\n",
      "+---------------+---------------------+\n"
     ]
    }
   ],
   "source": [
    "mydb.commit()\n",
    "\n",
    "query6='''\n",
    "SELECT \n",
    "    CustomerKey, \n",
    "    COUNT(*) AS NumberOfPurchases\n",
    "FROM \n",
    "    `global electronics`\n",
    "GROUP BY \n",
    "    CustomerKey\n",
    "HAVING \n",
    "    COUNT(*) > 10'''\n",
    "\n",
    "mycursor.execute(query6)\n",
    "\n",
    "\n",
    "result = mycursor.fetchall()\n",
    "headers = [i[0] for i in mycursor.description]\n",
    "\n",
    "\n",
    "print(tabulate(result[:10], headers, tablefmt=\"grid\"))\n",
    "    "
   ]
  },
  {
   "cell_type": "markdown",
   "metadata": {},
   "source": [
    "7.to Get Distinct Order Counts for Every Year:"
   ]
  },
  {
   "cell_type": "code",
   "execution_count": 13,
   "metadata": {},
   "outputs": [
    {
     "name": "stdout",
     "output_type": "stream",
     "text": [
      "+--------+------------------------+\n",
      "|   Year |   Distinct Order Count |\n",
      "+========+========================+\n",
      "|   2016 |                   2865 |\n",
      "+--------+------------------------+\n",
      "|   2017 |                   3280 |\n",
      "+--------+------------------------+\n",
      "|   2018 |                   5965 |\n",
      "+--------+------------------------+\n",
      "|   2019 |                   9083 |\n",
      "+--------+------------------------+\n",
      "|   2020 |                   4635 |\n",
      "+--------+------------------------+\n",
      "|   2021 |                    498 |\n",
      "+--------+------------------------+\n"
     ]
    }
   ],
   "source": [
    "mydb.commit()\n",
    "\n",
    "query7='''\n",
    "SELECT \n",
    "    YEAR(`Order Date`) AS `Year`, \n",
    "    COUNT(DISTINCT `Order Number`) AS `Distinct Order Count`\n",
    "FROM \n",
    "    `global electronics`\n",
    "GROUP BY \n",
    "    YEAR(`Order Date`)'''\n",
    "\n",
    "    \n",
    "mycursor.execute(query7)\n",
    "\n",
    "\n",
    "result = mycursor.fetchall()\n",
    "headers = [i[0] for i in mycursor.description]\n",
    "\n",
    "print(tabulate(result, headers, tablefmt=\"grid\"))\n",
    "\n",
    "# we have only two months data for year 2021\n",
    "\n",
    "\n",
    "    "
   ]
  },
  {
   "cell_type": "markdown",
   "metadata": {},
   "source": [
    "8 to Get the Number of Stores in Each  Store Country"
   ]
  },
  {
   "cell_type": "code",
   "execution_count": 17,
   "metadata": {},
   "outputs": [
    {
     "name": "stdout",
     "output_type": "stream",
     "text": [
      "+-----------------+--------------------+\n",
      "| Store Country   |   Number of Stores |\n",
      "+=================+====================+\n",
      "| Canada          |               4206 |\n",
      "+-----------------+--------------------+\n",
      "| Online          |              13165 |\n",
      "+-----------------+--------------------+\n",
      "| United Kingdom  |               6643 |\n",
      "+-----------------+--------------------+\n",
      "| Netherlands     |               1817 |\n",
      "+-----------------+--------------------+\n",
      "| United States   |              26555 |\n",
      "+-----------------+--------------------+\n",
      "| Italy           |               2201 |\n",
      "+-----------------+--------------------+\n",
      "| France          |               1387 |\n",
      "+-----------------+--------------------+\n",
      "| Germany         |               4662 |\n",
      "+-----------------+--------------------+\n",
      "| Australia       |               2248 |\n",
      "+-----------------+--------------------+\n"
     ]
    }
   ],
   "source": [
    "mydb.commit()\n",
    "\n",
    "query8='''\n",
    "SELECT \n",
    "    `Store Country`, \n",
    "    COUNT(*) AS `Number of Stores`\n",
    "FROM \n",
    "    `global electronics`\n",
    "GROUP BY \n",
    "    `Store Country`'''\n",
    "mycursor.execute(query8)\n",
    "\n",
    "\n",
    "result = mycursor.fetchall()\n",
    "headers = [i[0] for i in mycursor.description]\n",
    "\n",
    "print(tabulate(result, headers, tablefmt=\"grid\"))\n",
    "\n",
    "\n"
   ]
  },
  {
   "cell_type": "markdown",
   "metadata": {},
   "source": [
    "9.to Get Revenue by Store Square Meter:"
   ]
  },
  {
   "cell_type": "code",
   "execution_count": 13,
   "metadata": {},
   "outputs": [
    {
     "name": "stdout",
     "output_type": "stream",
     "text": [
      "+-----------------------+------------------+\n",
      "|   Stores Square Meter |    Total Revenue |\n",
      "+=======================+==================+\n",
      "|                  1210 |      1.04319e+06 |\n",
      "+-----------------------+------------------+\n",
      "|                     0 |      1.14043e+07 |\n",
      "+-----------------------+------------------+\n",
      "|                  1800 | 995313           |\n",
      "+-----------------------+------------------+\n",
      "|                  1540 |      1.47513e+06 |\n",
      "+-----------------------+------------------+\n",
      "|                  1190 |      1.25026e+06 |\n",
      "+-----------------------+------------------+\n",
      "|                  1000 | 913856           |\n",
      "+-----------------------+------------------+\n",
      "|                  1500 |      1.33615e+06 |\n",
      "+-----------------------+------------------+\n",
      "|                   840 |      1.22096e+06 |\n",
      "+-----------------------+------------------+\n",
      "|                  1785 |      1.22504e+06 |\n",
      "+-----------------------+------------------+\n",
      "|                  2100 |      3.07729e+06 |\n",
      "+-----------------------+------------------+\n"
     ]
    }
   ],
   "source": [
    "mydb.commit()\n",
    "\n",
    "query9='''\n",
    "SELECT \n",
    "    `Stores Square Meter`, \n",
    "    SUM(`Quantity` * `Unit Price USD`) AS `Total Revenue`\n",
    "FROM \n",
    "    `global electronics`\n",
    "GROUP BY \n",
    "    `Stores Square Meter`'''\n",
    "\n",
    "mycursor.execute(query9)\n",
    "\n",
    "result = mycursor.fetchall()\n",
    "headers = [i[0] for i in mycursor.description]\n",
    "\n",
    "print(tabulate(result[:10], headers, tablefmt=\"grid\"))"
   ]
  },
  {
   "cell_type": "markdown",
   "metadata": {},
   "source": [
    "10. to Get Revenue by Store Open year:"
   ]
  },
  {
   "cell_type": "code",
   "execution_count": 7,
   "metadata": {},
   "outputs": [
    {
     "name": "stdout",
     "output_type": "stream",
     "text": [
      "+--------+------------------+\n",
      "|   Year |    Total Revenue |\n",
      "+========+==================+\n",
      "|   2015 |      7.68498e+06 |\n",
      "+--------+------------------+\n",
      "|   2010 |      1.89494e+07 |\n",
      "+--------+------------------+\n",
      "|   2008 |      5.65531e+06 |\n",
      "+--------+------------------+\n",
      "|   2005 |      2.17814e+06 |\n",
      "+--------+------------------+\n",
      "|   2014 |      3.29086e+06 |\n",
      "+--------+------------------+\n",
      "|   2012 |      9.01235e+06 |\n",
      "+--------+------------------+\n",
      "|   2013 |      1.91838e+06 |\n",
      "+--------+------------------+\n",
      "|   2009 |      3.30374e+06 |\n",
      "+--------+------------------+\n",
      "|   2007 |      1.4784e+06  |\n",
      "+--------+------------------+\n",
      "|   2018 |      2.00415e+06 |\n",
      "+--------+------------------+\n",
      "|   2019 | 279775           |\n",
      "+--------+------------------+\n"
     ]
    }
   ],
   "source": [
    "\n",
    "mydb.commit()\n",
    "\n",
    "query10='''\n",
    "SELECT \n",
    "    YEAR(`Store Open Date`) AS `Year`, \n",
    "    SUM(`Quantity` * `Unit Price USD`) AS `Total Revenue`\n",
    "FROM \n",
    "    `global electronics`\n",
    "GROUP BY \n",
    "    YEAR(`Store Open Date`)'''\n",
    "\n",
    "mycursor.execute(query10)\n",
    "\n",
    "# Fetch the results and display them in a tabulated format\n",
    "result = mycursor.fetchall()\n",
    "headers = [i[0] for i in mycursor.description]\n",
    "\n",
    "# Display the result as a table\n",
    "print(tabulate(result, headers, tablefmt=\"grid\"))\n",
    "\n",
    "\n"
   ]
  },
  {
   "cell_type": "markdown",
   "metadata": {},
   "source": [
    "11 Orders by Customer Gender:"
   ]
  },
  {
   "cell_type": "code",
   "execution_count": 14,
   "metadata": {},
   "outputs": [
    {
     "name": "stdout",
     "output_type": "stream",
     "text": [
      "+-------------------+--------------------+\n",
      "| Customer Gender   |   Number of Orders |\n",
      "+===================+====================+\n",
      "| Male              |              31804 |\n",
      "+-------------------+--------------------+\n",
      "| Female            |              31080 |\n",
      "+-------------------+--------------------+\n"
     ]
    }
   ],
   "source": [
    "mydb.commit()\n",
    "\n",
    "query11='''\n",
    "SELECT \n",
    "    `Customer Gender`, \n",
    "    COUNT(`Order Number`) AS `Number of Orders`\n",
    "FROM \n",
    "    `global electronics`\n",
    "GROUP BY \n",
    "    `Customer Gender`'''\n",
    "mycursor.execute(query11)\n",
    "\n",
    "\n",
    "result = mycursor.fetchall()\n",
    "headers = [i[0] for i in mycursor.description]\n",
    "\n",
    "\n",
    "print(tabulate(result, headers, tablefmt=\"grid\"))\n",
    "\n",
    "    \n",
    "    \n",
    "\n",
    "\n"
   ]
  },
  {
   "cell_type": "markdown",
   "metadata": {},
   "source": [
    "12.Total revenue by brand"
   ]
  },
  {
   "cell_type": "code",
   "execution_count": 2,
   "metadata": {},
   "outputs": [
    {
     "name": "stdout",
     "output_type": "stream",
     "text": [
      "+----------------------+------------------+\n",
      "| Brand                |    Total Revenue |\n",
      "+======================+==================+\n",
      "| Contoso              |      1.07923e+07 |\n",
      "+----------------------+------------------+\n",
      "| A. Datum             |      1.48621e+06 |\n",
      "+----------------------+------------------+\n",
      "| Fabrikam             |      6.80789e+06 |\n",
      "+----------------------+------------------+\n",
      "| Adventure Works      |      1.18499e+07 |\n",
      "+----------------------+------------------+\n",
      "| The Phone Company    |      5.38682e+06 |\n",
      "+----------------------+------------------+\n",
      "| Proseware            |      3.21263e+06 |\n",
      "+----------------------+------------------+\n",
      "| Wide World Importers |      9.1728e+06  |\n",
      "+----------------------+------------------+\n",
      "| Tailspin Toys        | 682731           |\n",
      "+----------------------+------------------+\n",
      "| Southridge Video     |      2.5786e+06  |\n",
      "+----------------------+------------------+\n",
      "| Litware              |      2.6595e+06  |\n",
      "+----------------------+------------------+\n",
      "| Northwind Traders    |      1.12607e+06 |\n",
      "+----------------------+------------------+\n"
     ]
    }
   ],
   "source": [
    "mydb.commit()\n",
    "\n",
    "query12='''\n",
    "SELECT \n",
    "    `Brand`, \n",
    "    SUM(`Quantity` * `Unit Price USD`) AS `Total Revenue`\n",
    "FROM \n",
    "    `global electronics`\n",
    "GROUP BY \n",
    "    `Brand` '''\n",
    "mycursor.execute(query12)\n",
    "\n",
    "\n",
    "result = mycursor.fetchall()\n",
    "headers = [i[0] for i in mycursor.description]\n",
    "\n",
    "print(tabulate(result, headers, tablefmt=\"grid\"))\n"
   ]
  },
  {
   "cell_type": "markdown",
   "metadata": {},
   "source": [
    "13.Highest Selling Color in Every Brand"
   ]
  },
  {
   "cell_type": "code",
   "execution_count": 8,
   "metadata": {},
   "outputs": [
    {
     "name": "stdout",
     "output_type": "stream",
     "text": [
      "+----------------------+---------+-----------------------+\n",
      "| Brand                | Color   |   Total_Quantity_Sold |\n",
      "+======================+=========+=======================+\n",
      "| Fabrikam             | Black   |                  2205 |\n",
      "+----------------------+---------+-----------------------+\n",
      "| The Phone Company    | Black   |                  5604 |\n",
      "+----------------------+---------+-----------------------+\n",
      "| Proseware            | Black   |                  3388 |\n",
      "+----------------------+---------+-----------------------+\n",
      "| Contoso              | Black   |                 13601 |\n",
      "+----------------------+---------+-----------------------+\n",
      "| Wide World Importers | Black   |                  7688 |\n",
      "+----------------------+---------+-----------------------+\n",
      "| Adventure Works      | Black   |                  5828 |\n",
      "+----------------------+---------+-----------------------+\n",
      "| Southridge Video     | Black   |                  7570 |\n",
      "+----------------------+---------+-----------------------+\n",
      "| Litware              | Silver  |                   952 |\n",
      "+----------------------+---------+-----------------------+\n",
      "| Tailspin Toys        | Blue    |                  3890 |\n",
      "+----------------------+---------+-----------------------+\n",
      "| Northwind Traders    | Black   |                  1565 |\n",
      "+----------------------+---------+-----------------------+\n",
      "| A. Datum             | Grey    |                   803 |\n",
      "+----------------------+---------+-----------------------+\n"
     ]
    }
   ],
   "source": [
    "mydb.commit()\n",
    "\n",
    "query13='''\n",
    "SELECT \n",
    "    t1.Brand, \n",
    "    t1.Color, \n",
    "    t1.Total_Quantity_Sold\n",
    "FROM \n",
    "    (\n",
    "        SELECT \n",
    "            Brand, \n",
    "            Color, \n",
    "            SUM(Quantity) AS Total_Quantity_Sold\n",
    "        FROM \n",
    "            `global electronics`\n",
    "        GROUP BY \n",
    "            Brand, \n",
    "            Color\n",
    "    ) AS t1\n",
    "JOIN \n",
    "    (\n",
    "        SELECT \n",
    "            Brand, \n",
    "            MAX(Total_Quantity_Sold) AS Max_Quantity\n",
    "        FROM \n",
    "            (\n",
    "                SELECT \n",
    "                    Brand, \n",
    "                    Color, \n",
    "                    SUM(Quantity) AS Total_Quantity_Sold\n",
    "                FROM \n",
    "                    `global electronics`\n",
    "                GROUP BY \n",
    "                    Brand, \n",
    "                    Color\n",
    "            ) AS t2\n",
    "        GROUP BY \n",
    "            Brand\n",
    "    ) AS t3\n",
    "ON \n",
    "    t1.Brand = t3.Brand AND t1.Total_Quantity_Sold = t3.Max_Quantity'''\n",
    "\n",
    "\n",
    "mycursor.execute(query13)\n",
    "\n",
    "result = mycursor.fetchall()\n",
    "headers = [i[0] for i in mycursor.description]\n",
    "\n",
    "\n",
    "\n",
    "print(tabulate(result, headers, tablefmt=\"grid\"))"
   ]
  },
  {
   "cell_type": "code",
   "execution_count": 12,
   "metadata": {},
   "outputs": [
    {
     "name": "stdout",
     "output_type": "stream",
     "text": [
      "+-------------+-----------------------+\n",
      "| Age_Group   |   Number_of_Purchases |\n",
      "+=============+=======================+\n",
      "| above 65    |                 21955 |\n",
      "+-------------+-----------------------+\n",
      "| 36-45       |                  9373 |\n",
      "+-------------+-----------------------+\n",
      "| 26-35       |                  9363 |\n",
      "+-------------+-----------------------+\n",
      "| 56-65       |                  9274 |\n",
      "+-------------+-----------------------+\n",
      "| 46-55       |                  9242 |\n",
      "+-------------+-----------------------+\n",
      "| 18-25       |                  3677 |\n",
      "+-------------+-----------------------+\n"
     ]
    }
   ],
   "source": [
    "mydb.commit()\n",
    "\n",
    "query14='''\n",
    "SELECT \n",
    "    CASE \n",
    "        WHEN TIMESTAMPDIFF(YEAR, `Customer Birthday`, CURDATE()) BETWEEN 18 AND 25 THEN '18-25'\n",
    "        WHEN TIMESTAMPDIFF(YEAR, `Customer Birthday`, CURDATE()) BETWEEN 26 AND 35 THEN '26-35'\n",
    "        WHEN TIMESTAMPDIFF(YEAR, `Customer Birthday`, CURDATE()) BETWEEN 36 AND 45 THEN '36-45'\n",
    "        WHEN TIMESTAMPDIFF(YEAR, `Customer Birthday`, CURDATE()) BETWEEN 46 AND 55 THEN '46-55'\n",
    "        WHEN TIMESTAMPDIFF(YEAR, `Customer Birthday`, CURDATE()) BETWEEN 56 AND 65 THEN '56-65'\n",
    "        ELSE 'above 65'\n",
    "    END AS Age_Group,\n",
    "    COUNT(*) AS Number_of_Purchases\n",
    "FROM \n",
    "    `global electronics`\n",
    "GROUP BY \n",
    "    Age_Group\n",
    "ORDER BY \n",
    "    Number_of_Purchases DESC'''\n",
    "\n",
    "mycursor.execute(query14)\n",
    "\n",
    "\n",
    "result = mycursor.fetchall()\n",
    "headers = [i[0] for i in mycursor.description]\n",
    "\n",
    "\n",
    "\n",
    "print(tabulate(result, headers, tablefmt=\"grid\"))\n",
    "\n"
   ]
  },
  {
   "cell_type": "markdown",
   "metadata": {},
   "source": [
    "15.Query to Calculate Profit"
   ]
  },
  {
   "cell_type": "markdown",
   "metadata": {},
   "source": [
    "Profit=(Unit Price USD−Unit Cost USD)×Quantity×Exchange Rate"
   ]
  },
  {
   "cell_type": "code",
   "execution_count": 15,
   "metadata": {},
   "outputs": [
    {
     "name": "stdout",
     "output_type": "stream",
     "text": [
      "+----------------+---------------------------------------------+------------------+-----------------+------------+-----------------+----------+\n",
      "|   Order Number | Product Name                                |   Unit Price USD |   Unit Cost USD |   Quantity |   Exchange Rate |   Profit |\n",
      "+================+=============================================+==================+=================+============+=================+==========+\n",
      "|        1655025 | Fabrikam Refrigerator 24.7CuFt X9800 Silver |          3199.99 |         1060.22 |          8 |          1.4309 |  24494.4 |\n",
      "+----------------+---------------------------------------------+------------------+-----------------+------------+-----------------+----------+\n",
      "|        1281003 | Fabrikam Refrigerator 24.7CuFt X9800 Brown  |          3199.99 |         1060.22 |          8 |          1.354  |  23178   |\n",
      "+----------------+---------------------------------------------+------------------+-----------------+------------+-----------------+----------+\n",
      "|        1090016 | Fabrikam Refrigerator 24.7CuFt X9800 Orange |          3199.99 |         1060.22 |          8 |          1.2703 |  21745.2 |\n",
      "+----------------+---------------------------------------------+------------------+-----------------+------------+-----------------+----------+\n",
      "|        1351000 | WWI Projector 1080p LCD86 Silver            |          2295    |          760.38 |         10 |          1.4042 |  21549.1 |\n",
      "+----------------+---------------------------------------------+------------------+-----------------+------------+-----------------+----------+\n",
      "|         433005 | Litware Refrigerator 24.7CuFt X980 Silver   |          3199.99 |         1060.22 |         10 |          1      |  21397.7 |\n",
      "+----------------+---------------------------------------------+------------------+-----------------+------------+-----------------+----------+\n",
      "|        1088010 | Proseware Projector 1080p DLP86 Silver      |          2499    |          827.97 |         10 |          1.2703 |  21227.1 |\n",
      "+----------------+---------------------------------------------+------------------+-----------------+------------+-----------------+----------+\n",
      "|        1794022 | Adventure Works 52\" LCD HDTV X590 White     |          2899.99 |          960.82 |         10 |          1      |  19391.7 |\n",
      "+----------------+---------------------------------------------+------------------+-----------------+------------+-----------------+----------+\n",
      "|        1731001 | Adventure Works 52\" LCD HDTV X590 Black     |          2899.99 |          960.82 |         10 |          1      |  19391.7 |\n",
      "+----------------+---------------------------------------------+------------------+-----------------+------------+-----------------+----------+\n",
      "|        1421002 | Fabrikam Refrigerator 24.7CuFt X9800 Grey   |          3199.99 |         1060.22 |          9 |          1      |  19257.9 |\n",
      "+----------------+---------------------------------------------+------------------+-----------------+------------+-----------------+----------+\n",
      "|        1115009 | Fabrikam Refrigerator 24.7CuFt X9800 Grey   |          3199.99 |         1060.22 |          9 |          1      |  19257.9 |\n",
      "+----------------+---------------------------------------------+------------------+-----------------+------------+-----------------+----------+\n"
     ]
    }
   ],
   "source": [
    "query15 = '''\n",
    "SELECT \n",
    "    `Order Number`,\n",
    "    `Product Name`,\n",
    "    `Unit Price USD`,\n",
    "    `Unit Cost USD`,\n",
    "    `Quantity`,\n",
    "    `Exchange Rate`,\n",
    "    (`Unit Price USD` - `Unit Cost USD`) * `Quantity` * `Exchange Rate` AS Profit\n",
    "FROM \n",
    "    `global electronics`\n",
    "ORDER BY \n",
    "    Profit DESC;\n",
    "'''\n",
    "\n",
    "mycursor.execute(query15)\n",
    "\n",
    "\n",
    "result = mycursor.fetchall()\n",
    "headers = [i[0] for i in mycursor.description]\n",
    "\n",
    "\n",
    "print(tabulate(result[:10], headers, tablefmt=\"grid\"))\n"
   ]
  },
  {
   "cell_type": "markdown",
   "metadata": {},
   "source": [
    " 16.high-performing regions by analyzing sales based on store location."
   ]
  },
  {
   "cell_type": "code",
   "execution_count": 8,
   "metadata": {},
   "outputs": [
    {
     "name": "stdout",
     "output_type": "stream",
     "text": [
      "+-----------------+-----------------------+---------------+--------------------+-----------------------+\n",
      "| Store Country   | Store State           |   Total_Sales |   Number_of_Stores |   Avg_Sales_Per_Store |\n",
      "+=================+=======================+===============+====================+=======================+\n",
      "| Online          | Online                |   1.14043e+07 |                  1 |               866.261 |\n",
      "+-----------------+-----------------------+---------------+--------------------+-----------------------+\n",
      "| United States   | Nevada                |   1.41789e+06 |                  1 |               934.048 |\n",
      "+-----------------+-----------------------+---------------+--------------------+-----------------------+\n",
      "| United States   | Kansas                |   1.39474e+06 |                  1 |               918.195 |\n",
      "+-----------------+-----------------------+---------------+--------------------+-----------------------+\n",
      "| United States   | Nebraska              |   1.3844e+06  |                  1 |               924.163 |\n",
      "+-----------------+-----------------------+---------------+--------------------+-----------------------+\n",
      "| Canada          | Northwest Territories |   1.33615e+06 |                  1 |               847.273 |\n",
      "+-----------------+-----------------------+---------------+--------------------+-----------------------+\n"
     ]
    }
   ],
   "source": [
    "query16 = '''\n",
    "SELECT \n",
    "    `Store Country`,\n",
    "    `Store State`,\n",
    "    SUM(`Quantity` * `Unit Price USD`) AS Total_Sales,\n",
    "    COUNT(DISTINCT `StoreKey`) AS Number_of_Stores,\n",
    "    AVG(`Quantity` * `Unit Price USD`) AS Avg_Sales_Per_Store\n",
    "FROM \n",
    "    `global electronics`\n",
    "GROUP BY \n",
    "    `Store Country`,\n",
    "    `Store State`\n",
    "ORDER BY \n",
    "    Total_Sales DESC\n",
    "'''\n",
    "\n",
    "mycursor.execute(query16)\n",
    "\n",
    "\n",
    "result = mycursor.fetchall()\n",
    "headers = [i[0] for i in mycursor.description]\n",
    "\n",
    "print(tabulate(result[:5], headers, tablefmt=\"grid\"))\n"
   ]
  },
  {
   "cell_type": "markdown",
   "metadata": {},
   "source": [
    "17.Total Sales by Currency Code"
   ]
  },
  {
   "cell_type": "code",
   "execution_count": 9,
   "metadata": {},
   "outputs": [
    {
     "name": "stdout",
     "output_type": "stream",
     "text": [
      "+-----------------+---------------+-----------------+----------------+\n",
      "| Currency Code   |   Total_Sales |   Total_Revenue |   Total_Orders |\n",
      "+=================+===============+=================+================+\n",
      "| USD             |   2.98716e+07 |     1.74909e+07 |          33767 |\n",
      "+-----------------+---------------+-----------------+----------------+\n",
      "| EUR             |   1.13673e+07 |     6.68493e+06 |          12621 |\n",
      "+-----------------+---------------+-----------------+----------------+\n",
      "| GBP             |   7.08409e+06 |     4.1338e+06  |           8140 |\n",
      "+-----------------+---------------+-----------------+----------------+\n",
      "| CAD             |   4.72433e+06 |     2.75574e+06 |           5415 |\n",
      "+-----------------+---------------+-----------------+----------------+\n",
      "| AUD             |   2.70814e+06 |     1.5973e+06  |           2941 |\n",
      "+-----------------+---------------+-----------------+----------------+\n"
     ]
    }
   ],
   "source": [
    "query17 = '''\n",
    "SELECT \n",
    "    `Currency Code`, \n",
    "    SUM(`Quantity` * `Unit Price USD`) AS Total_Sales,\n",
    "    SUM(`Quantity` * (`Unit Price USD` - `Unit Cost USD`)) AS Total_Revenue,\n",
    "    COUNT(`Order Number`) AS Total_Orders\n",
    "FROM \n",
    "    `global electronics`\n",
    "GROUP BY \n",
    "    `Currency Code`\n",
    "ORDER BY \n",
    "    Total_Sales DESC\n",
    "'''\n",
    "\n",
    "mycursor.execute(query17)\n",
    "\n",
    "# Fetch the results and display them in a tabulated format\n",
    "result = mycursor.fetchall()\n",
    "headers = [i[0] for i in mycursor.description]\n",
    "\n",
    "# Display the result as a table\n",
    "print(tabulate(result, headers, tablefmt=\"grid\"))\n"
   ]
  },
  {
   "cell_type": "code",
   "execution_count": null,
   "metadata": {},
   "outputs": [],
   "source": []
  }
 ],
 "metadata": {
  "kernelspec": {
   "display_name": "Python 3",
   "language": "python",
   "name": "python3"
  },
  "language_info": {
   "codemirror_mode": {
    "name": "ipython",
    "version": 3
   },
   "file_extension": ".py",
   "mimetype": "text/x-python",
   "name": "python",
   "nbconvert_exporter": "python",
   "pygments_lexer": "ipython3",
   "version": "3.11.9"
  }
 },
 "nbformat": 4,
 "nbformat_minor": 2
}
